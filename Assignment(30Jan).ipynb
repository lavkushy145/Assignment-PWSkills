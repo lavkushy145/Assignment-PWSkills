{
 "cells": [
  {
   "cell_type": "markdown",
   "metadata": {},
   "source": [
    "# 1. Write a program to accept percentage from the user and display the grade according to the following criteria"
   ]
  },
  {
   "cell_type": "code",
   "execution_count": 2,
   "metadata": {},
   "outputs": [
    {
     "name": "stdout",
     "output_type": "stream",
     "text": [
      "Enter Your Marks: 80\n",
      "Grade C\n"
     ]
    }
   ],
   "source": [
    "marks = int(input(\"Enter Your Marks: \"))\n",
    "\n",
    "if marks > 90:\n",
    "    print(\"Grade A\")\n",
    "elif marks > 80 and marks <=90:\n",
    "    print(\"Grade B\")\n",
    "elif marks >=60 and marks <=80:\n",
    "    print(\"Grade C\")\n",
    "else:\n",
    "    print(\"Grade D\")"
   ]
  },
  {
   "cell_type": "markdown",
   "metadata": {},
   "source": [
    "# 2. Write a program to accept the cost price of bike and display the road tax to be paid according to the following criteria"
   ]
  },
  {
   "cell_type": "code",
   "execution_count": 3,
   "metadata": {},
   "outputs": [
    {
     "name": "stdout",
     "output_type": "stream",
     "text": [
      "Enter cost price of Bike: 1100000\n",
      "Road Tax For Payable:  165000\n"
     ]
    }
   ],
   "source": [
    "C = int(input(\"Enter cost price of Bike: \"))\n",
    "\n",
    "if C > 100000:\n",
    "    road_tax = (C * 15)//100\n",
    "    print(\"Road Tax For Payable: \",road_tax)\n",
    "elif C > 50000 and C <= 100000:\n",
    "    road_tax = (C * 10)//100\n",
    "    print(\"Road Tax For Payable: \",road_tax)\n",
    "else:\n",
    "    road_tax = (C * 5)//100\n",
    "    print(\"Road Tax For Payable: \",road_tax)"
   ]
  },
  {
   "cell_type": "markdown",
   "metadata": {},
   "source": [
    "#  3. Accept any city from the user and display Monuments of that city"
   ]
  },
  {
   "cell_type": "code",
   "execution_count": 1,
   "metadata": {},
   "outputs": [
    {
     "name": "stdout",
     "output_type": "stream",
     "text": [
      "Enter City Name: Delhi\n",
      "Monument is Red Fort\n"
     ]
    }
   ],
   "source": [
    "city = input(\"Enter City Name: \")\n",
    "\n",
    "if city == 'Delhi':\n",
    "    print(\"Monument is Red Fort\")\n",
    "if city == 'Agra':\n",
    "    print(\"Monument is Taj Mahal\")\n",
    "if city == 'Jaipur':\n",
    "    print(\"Monument is Jal Mahal\")"
   ]
  },
  {
   "cell_type": "markdown",
   "metadata": {},
   "source": [
    "#  4. Check how many times a given number can be divided by 3 before it os less than or equal to 10"
   ]
  },
  {
   "cell_type": "code",
   "execution_count": 2,
   "metadata": {},
   "outputs": [
    {
     "name": "stdout",
     "output_type": "stream",
     "text": [
      "Enter a number: 6\n",
      "Number Divide  2 Time by 3\n"
     ]
    }
   ],
   "source": [
    "num =  int(input(\"Enter a number: \"))\n",
    "\n",
    "if num <=10:\n",
    "    count = 0\n",
    "    while num !=0:\n",
    "        if num % 3==0:\n",
    "            count = count+1\n",
    "        num -= 1\n",
    "print(\"Number Divide \",count,\"Time by 3\")"
   ]
  },
  {
   "cell_type": "markdown",
   "metadata": {},
   "source": [
    "#  5. Why And When to use while loop in python give a detailed description with example\n",
    "\n",
    "--> Python while loop is used to run a block code until a certain condition is met.\n",
    "Syntax :\n",
    "    while condition:\n",
    "    # body of while loop\n",
    "    \n",
    "--> Here are some steps:\n",
    "1. A while loop evaluates the condition\n",
    "2. If the condition evaluates to True, the code inside the while loop is executed.\n",
    "3. condition is evaluated again.\n",
    "4. This process continues until the condition is False.\n",
    "5. When condition evaluates to False, the loop stops."
   ]
  },
  {
   "cell_type": "code",
   "execution_count": 29,
   "metadata": {},
   "outputs": [
    {
     "name": "stdout",
     "output_type": "stream",
     "text": [
      "Enter number of terms: 10\n",
      "10  9  8  7  6  5  4  3  2  1  "
     ]
    }
   ],
   "source": [
    "#Example of Above Question:\n",
    "\n",
    "num = int(input(\"Enter number of terms: \"))\n",
    "while num<=10 and num !=0:\n",
    "    print(num,end = \"  \")\n",
    "    num -=1"
   ]
  },
  {
   "cell_type": "markdown",
   "metadata": {},
   "source": [
    "# 6. Use nested While loop to print 3 different pattern"
   ]
  },
  {
   "cell_type": "code",
   "execution_count": 10,
   "metadata": {},
   "outputs": [
    {
     "name": "stdout",
     "output_type": "stream",
     "text": [
      "Enter Number of row: 10\n",
      " \n",
      "@  \n",
      "@ @  \n",
      "@ @ @  \n",
      "@ @ @ @  \n",
      "@ @ @ @ @  \n",
      "@ @ @ @ @ @  \n",
      "@ @ @ @ @ @ @  \n",
      "@ @ @ @ @ @ @ @  \n",
      "@ @ @ @ @ @ @ @ @  \n",
      "@ @ @ @ @ @ @ @ @ @  \n"
     ]
    }
   ],
   "source": [
    "#First Pattern\n",
    "\n",
    "row = int(input(\"Enter Number of row: \"))\n",
    "i=0\n",
    "while i<=row:\n",
    "    j=1\n",
    "    pattern='@'\n",
    "    while j<=i:\n",
    "        print(pattern,end=\" \")\n",
    "        j +=1\n",
    "    print(\" \")\n",
    "    i += 1 "
   ]
  },
  {
   "cell_type": "code",
   "execution_count": 15,
   "metadata": {},
   "outputs": [
    {
     "name": "stdout",
     "output_type": "stream",
     "text": [
      "Enter Number of row: 10\n",
      "@ @ @ @ @ @ @ @ @ @  \n",
      "@ @ @ @ @ @ @ @ @  \n",
      "@ @ @ @ @ @ @ @  \n",
      "@ @ @ @ @ @ @  \n",
      "@ @ @ @ @ @  \n",
      "@ @ @ @ @  \n",
      "@ @ @ @  \n",
      "@ @ @  \n",
      "@ @  \n",
      "@  \n"
     ]
    }
   ],
   "source": [
    "#Second Pattern\n",
    "\n",
    "row = int(input(\"Enter Number of row: \"))\n",
    "i=row\n",
    "while i>=1:\n",
    "    j=i\n",
    "    pattern='@'\n",
    "    while j>=1:\n",
    "        print(pattern,end=\" \")\n",
    "        j -=1\n",
    "    print(\" \")\n",
    "    i -= 1 "
   ]
  },
  {
   "cell_type": "code",
   "execution_count": 16,
   "metadata": {},
   "outputs": [
    {
     "name": "stdout",
     "output_type": "stream",
     "text": [
      "Enter Number of row: 10\n",
      " \n",
      "@  \n",
      "@ @  \n",
      "@ @ @  \n",
      "@ @ @ @  \n",
      "@ @ @ @ @  \n",
      "@ @ @ @ @ @  \n",
      "@ @ @ @ @ @ @  \n",
      "@ @ @ @ @ @ @ @  \n",
      "@ @ @ @ @ @ @ @ @  \n",
      "@ @ @ @ @ @ @ @ @ @  \n",
      "@ @ @ @ @ @ @ @ @ @ @  \n",
      "@ @ @ @ @ @ @ @ @ @  \n",
      "@ @ @ @ @ @ @ @ @  \n",
      "@ @ @ @ @ @ @ @  \n",
      "@ @ @ @ @ @ @  \n",
      "@ @ @ @ @ @  \n",
      "@ @ @ @ @  \n",
      "@ @ @ @  \n",
      "@ @ @  \n",
      "@ @  \n",
      "@  \n"
     ]
    }
   ],
   "source": [
    "#ThirdPattern\n",
    "\n",
    "row = int(input(\"Enter Number of row: \"))\n",
    "i=0\n",
    "while i<=row:\n",
    "    j=1\n",
    "    pattern='@'\n",
    "    while j<=i:\n",
    "        print(pattern,end=\" \")\n",
    "        j +=1\n",
    "    print(\" \")\n",
    "    i += 1 \n",
    "while i>=1:\n",
    "    j=i\n",
    "    pattern='@'\n",
    "    while j>=1:\n",
    "        print(pattern,end=\" \")\n",
    "        j -=1\n",
    "    print(\" \")\n",
    "    i -= 1 "
   ]
  },
  {
   "cell_type": "markdown",
   "metadata": {},
   "source": [
    "#  7. Reverse A while loop to display numbers from 10 to 1"
   ]
  },
  {
   "cell_type": "code",
   "execution_count": 23,
   "metadata": {},
   "outputs": [
    {
     "name": "stdout",
     "output_type": "stream",
     "text": [
      "10  9  8  7  6  5  4  3  2  1  "
     ]
    }
   ],
   "source": [
    "num = 10\n",
    "\n",
    "while num<=10 and num !=0:\n",
    "    print(num,end = \"  \")\n",
    "    num -=1"
   ]
  },
  {
   "cell_type": "markdown",
   "metadata": {},
   "source": [
    "# 8. Reverse A while loop to display numbers from 10 to 1"
   ]
  },
  {
   "cell_type": "code",
   "execution_count": 28,
   "metadata": {},
   "outputs": [
    {
     "name": "stdout",
     "output_type": "stream",
     "text": [
      "10  9  8  7  6  5  4  3  2  1  "
     ]
    }
   ],
   "source": [
    "#Note Q7 & Q8 both are same\n",
    "num = 10\n",
    "\n",
    "while num<=10 and num !=0:\n",
    "    print(num,end = \"  \")\n",
    "    num -=1"
   ]
  },
  {
   "cell_type": "code",
   "execution_count": null,
   "metadata": {},
   "outputs": [],
   "source": []
  }
 ],
 "metadata": {
  "kernelspec": {
   "display_name": "Python 3 (ipykernel)",
   "language": "python",
   "name": "python3"
  },
  "language_info": {
   "codemirror_mode": {
    "name": "ipython",
    "version": 3
   },
   "file_extension": ".py",
   "mimetype": "text/x-python",
   "name": "python",
   "nbconvert_exporter": "python",
   "pygments_lexer": "ipython3",
   "version": "3.10.6"
  },
  "vscode": {
   "interpreter": {
    "hash": "61abdaa52f86fc17a9fd4f6aefdb87c72fefb0a892e96cb82f54d328ecb98202"
   }
  }
 },
 "nbformat": 4,
 "nbformat_minor": 2
}
